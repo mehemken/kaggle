{
 "cells": [
  {
   "cell_type": "code",
   "execution_count": 1,
   "metadata": {},
   "outputs": [],
   "source": [
    "import pandas as pd\n",
    "import numpy as np\n",
    "from matplotlib import pyplot as plt\n",
    "%matplotlib inline"
   ]
  },
  {
   "cell_type": "markdown",
   "metadata": {},
   "source": [
    "# Explore & Visualize the data"
   ]
  },
  {
   "cell_type": "markdown",
   "metadata": {},
   "source": [
    "## Loading the training set"
   ]
  },
  {
   "cell_type": "code",
   "execution_count": 2,
   "metadata": {},
   "outputs": [],
   "source": [
    "import os\n",
    "\n",
    "import logging\n",
    "logger = logging.getLogger()\n",
    "logging.basicConfig(\n",
    "    level=logging.DEBUG,\n",
    "#     filename='foo.log',\n",
    "#     filemode='w',\n",
    "#     format='%(asctime)s:%(message)',\n",
    "#     datefmt='%m/%d/%Y',\n",
    "    format='%(levelname)s:%(message)s'\n",
    ")"
   ]
  },
  {
   "cell_type": "code",
   "execution_count": 3,
   "metadata": {},
   "outputs": [],
   "source": [
    "class TitanicETL:\n",
    "    '''This is the ETL class I'll use for the rest of this project.\n",
    "    It will be used to load the data and make necessary transformations.\n",
    "    '''\n",
    "    def __init__(self, location=''):\n",
    "        if not location:\n",
    "            logger.fatal('Please specify a file.')\n",
    "            return None\n",
    "        try:\n",
    "            self.location = os.path.abspath(location)\n",
    "        except:\n",
    "            logger.exception('Could not load file.')\n",
    "        return\n",
    "    \n",
    "    def _load_from_file(self):\n",
    "        df = pd.read_csv(self.location)\n",
    "        \n",
    "        # Index\n",
    "        df = df.set_index('PassengerId')\n",
    "        \n",
    "        # Drop columns\n",
    "        df = df.drop('Age', axis=1)\n",
    "        df = df.drop('Unnamed: 0', axis=1)\n",
    "        \n",
    "        return df\n",
    "    \n",
    "    def _add_columns(self, df):\n",
    "        df['HasCabin'] = df['Cabin'].notna()\n",
    "        return df\n",
    "    \n",
    "    def get(self):\n",
    "        return (\n",
    "            self._load_from_file()\n",
    "            .pipe(self._add_columns)\n",
    "        )"
   ]
  },
  {
   "cell_type": "markdown",
   "metadata": {},
   "source": [
    "# Study attributes and their characteristics\n",
    "\n",
    "- dtypes\n",
    "- NaNs\n",
    "- Distributions\n",
    "- etc.\n",
    "\n",
    "## Potentially useful features\n",
    "\n",
    "- has cabin\n",
    "- in cabin shared by X passengers"
   ]
  },
  {
   "cell_type": "code",
   "execution_count": 4,
   "metadata": {},
   "outputs": [],
   "source": [
    "data = TitanicETL('data/copy_custom_train.csv')"
   ]
  },
  {
   "cell_type": "code",
   "execution_count": 5,
   "metadata": {},
   "outputs": [],
   "source": [
    "df = data.get()"
   ]
  },
  {
   "cell_type": "code",
   "execution_count": 6,
   "metadata": {},
   "outputs": [
    {
     "name": "stdout",
     "output_type": "stream",
     "text": [
      "<class 'pandas.core.frame.DataFrame'>\n",
      "Int64Index: 713 entries, 1 to 891\n",
      "Data columns (total 11 columns):\n",
      "Survived    713 non-null int64\n",
      "Pclass      713 non-null int64\n",
      "Name        713 non-null object\n",
      "Sex         713 non-null object\n",
      "SibSp       713 non-null int64\n",
      "Parch       713 non-null int64\n",
      "Ticket      713 non-null object\n",
      "Fare        713 non-null float64\n",
      "Cabin       165 non-null object\n",
      "Embarked    712 non-null object\n",
      "HasCabin    713 non-null bool\n",
      "dtypes: bool(1), float64(1), int64(4), object(5)\n",
      "memory usage: 62.0+ KB\n"
     ]
    }
   ],
   "source": [
    "df.info()"
   ]
  },
  {
   "cell_type": "markdown",
   "metadata": {},
   "source": [
    "# Describe"
   ]
  },
  {
   "cell_type": "code",
   "execution_count": 8,
   "metadata": {},
   "outputs": [
    {
     "data": {
      "text/html": [
       "<div>\n",
       "<style scoped>\n",
       "    .dataframe tbody tr th:only-of-type {\n",
       "        vertical-align: middle;\n",
       "    }\n",
       "\n",
       "    .dataframe tbody tr th {\n",
       "        vertical-align: top;\n",
       "    }\n",
       "\n",
       "    .dataframe thead th {\n",
       "        text-align: right;\n",
       "    }\n",
       "</style>\n",
       "<table border=\"1\" class=\"dataframe\">\n",
       "  <thead>\n",
       "    <tr style=\"text-align: right;\">\n",
       "      <th></th>\n",
       "      <th>Survived</th>\n",
       "      <th>Pclass</th>\n",
       "      <th>Name</th>\n",
       "      <th>Sex</th>\n",
       "      <th>SibSp</th>\n",
       "      <th>Parch</th>\n",
       "      <th>Ticket</th>\n",
       "      <th>Fare</th>\n",
       "      <th>Cabin</th>\n",
       "      <th>Embarked</th>\n",
       "      <th>HasCabin</th>\n",
       "    </tr>\n",
       "  </thead>\n",
       "  <tbody>\n",
       "    <tr>\n",
       "      <th>count</th>\n",
       "      <td>713.000000</td>\n",
       "      <td>713.000000</td>\n",
       "      <td>713</td>\n",
       "      <td>713</td>\n",
       "      <td>713.000000</td>\n",
       "      <td>713.000000</td>\n",
       "      <td>713</td>\n",
       "      <td>713.000000</td>\n",
       "      <td>165</td>\n",
       "      <td>712</td>\n",
       "      <td>713</td>\n",
       "    </tr>\n",
       "    <tr>\n",
       "      <th>unique</th>\n",
       "      <td>NaN</td>\n",
       "      <td>NaN</td>\n",
       "      <td>713</td>\n",
       "      <td>2</td>\n",
       "      <td>NaN</td>\n",
       "      <td>NaN</td>\n",
       "      <td>574</td>\n",
       "      <td>NaN</td>\n",
       "      <td>127</td>\n",
       "      <td>3</td>\n",
       "      <td>2</td>\n",
       "    </tr>\n",
       "    <tr>\n",
       "      <th>top</th>\n",
       "      <td>NaN</td>\n",
       "      <td>NaN</td>\n",
       "      <td>Skoog, Miss. Mabel</td>\n",
       "      <td>male</td>\n",
       "      <td>NaN</td>\n",
       "      <td>NaN</td>\n",
       "      <td>1601</td>\n",
       "      <td>NaN</td>\n",
       "      <td>C23 C25 C27</td>\n",
       "      <td>S</td>\n",
       "      <td>False</td>\n",
       "    </tr>\n",
       "    <tr>\n",
       "      <th>freq</th>\n",
       "      <td>NaN</td>\n",
       "      <td>NaN</td>\n",
       "      <td>1</td>\n",
       "      <td>455</td>\n",
       "      <td>NaN</td>\n",
       "      <td>NaN</td>\n",
       "      <td>6</td>\n",
       "      <td>NaN</td>\n",
       "      <td>4</td>\n",
       "      <td>508</td>\n",
       "      <td>548</td>\n",
       "    </tr>\n",
       "    <tr>\n",
       "      <th>mean</th>\n",
       "      <td>0.389902</td>\n",
       "      <td>2.300140</td>\n",
       "      <td>NaN</td>\n",
       "      <td>NaN</td>\n",
       "      <td>0.476858</td>\n",
       "      <td>0.382889</td>\n",
       "      <td>NaN</td>\n",
       "      <td>33.813054</td>\n",
       "      <td>NaN</td>\n",
       "      <td>NaN</td>\n",
       "      <td>NaN</td>\n",
       "    </tr>\n",
       "    <tr>\n",
       "      <th>std</th>\n",
       "      <td>0.488070</td>\n",
       "      <td>0.841155</td>\n",
       "      <td>NaN</td>\n",
       "      <td>NaN</td>\n",
       "      <td>0.965608</td>\n",
       "      <td>0.805939</td>\n",
       "      <td>NaN</td>\n",
       "      <td>53.941465</td>\n",
       "      <td>NaN</td>\n",
       "      <td>NaN</td>\n",
       "      <td>NaN</td>\n",
       "    </tr>\n",
       "    <tr>\n",
       "      <th>min</th>\n",
       "      <td>0.000000</td>\n",
       "      <td>1.000000</td>\n",
       "      <td>NaN</td>\n",
       "      <td>NaN</td>\n",
       "      <td>0.000000</td>\n",
       "      <td>0.000000</td>\n",
       "      <td>NaN</td>\n",
       "      <td>0.000000</td>\n",
       "      <td>NaN</td>\n",
       "      <td>NaN</td>\n",
       "      <td>NaN</td>\n",
       "    </tr>\n",
       "    <tr>\n",
       "      <th>25%</th>\n",
       "      <td>0.000000</td>\n",
       "      <td>2.000000</td>\n",
       "      <td>NaN</td>\n",
       "      <td>NaN</td>\n",
       "      <td>0.000000</td>\n",
       "      <td>0.000000</td>\n",
       "      <td>NaN</td>\n",
       "      <td>7.895800</td>\n",
       "      <td>NaN</td>\n",
       "      <td>NaN</td>\n",
       "      <td>NaN</td>\n",
       "    </tr>\n",
       "    <tr>\n",
       "      <th>50%</th>\n",
       "      <td>0.000000</td>\n",
       "      <td>3.000000</td>\n",
       "      <td>NaN</td>\n",
       "      <td>NaN</td>\n",
       "      <td>0.000000</td>\n",
       "      <td>0.000000</td>\n",
       "      <td>NaN</td>\n",
       "      <td>14.500000</td>\n",
       "      <td>NaN</td>\n",
       "      <td>NaN</td>\n",
       "      <td>NaN</td>\n",
       "    </tr>\n",
       "    <tr>\n",
       "      <th>75%</th>\n",
       "      <td>1.000000</td>\n",
       "      <td>3.000000</td>\n",
       "      <td>NaN</td>\n",
       "      <td>NaN</td>\n",
       "      <td>1.000000</td>\n",
       "      <td>0.000000</td>\n",
       "      <td>NaN</td>\n",
       "      <td>30.695800</td>\n",
       "      <td>NaN</td>\n",
       "      <td>NaN</td>\n",
       "      <td>NaN</td>\n",
       "    </tr>\n",
       "    <tr>\n",
       "      <th>max</th>\n",
       "      <td>1.000000</td>\n",
       "      <td>3.000000</td>\n",
       "      <td>NaN</td>\n",
       "      <td>NaN</td>\n",
       "      <td>8.000000</td>\n",
       "      <td>6.000000</td>\n",
       "      <td>NaN</td>\n",
       "      <td>512.329200</td>\n",
       "      <td>NaN</td>\n",
       "      <td>NaN</td>\n",
       "      <td>NaN</td>\n",
       "    </tr>\n",
       "  </tbody>\n",
       "</table>\n",
       "</div>"
      ],
      "text/plain": [
       "          Survived      Pclass                Name   Sex       SibSp  \\\n",
       "count   713.000000  713.000000                 713   713  713.000000   \n",
       "unique         NaN         NaN                 713     2         NaN   \n",
       "top            NaN         NaN  Skoog, Miss. Mabel  male         NaN   \n",
       "freq           NaN         NaN                   1   455         NaN   \n",
       "mean      0.389902    2.300140                 NaN   NaN    0.476858   \n",
       "std       0.488070    0.841155                 NaN   NaN    0.965608   \n",
       "min       0.000000    1.000000                 NaN   NaN    0.000000   \n",
       "25%       0.000000    2.000000                 NaN   NaN    0.000000   \n",
       "50%       0.000000    3.000000                 NaN   NaN    0.000000   \n",
       "75%       1.000000    3.000000                 NaN   NaN    1.000000   \n",
       "max       1.000000    3.000000                 NaN   NaN    8.000000   \n",
       "\n",
       "             Parch Ticket        Fare        Cabin Embarked HasCabin  \n",
       "count   713.000000    713  713.000000          165      712      713  \n",
       "unique         NaN    574         NaN          127        3        2  \n",
       "top            NaN   1601         NaN  C23 C25 C27        S    False  \n",
       "freq           NaN      6         NaN            4      508      548  \n",
       "mean      0.382889    NaN   33.813054          NaN      NaN      NaN  \n",
       "std       0.805939    NaN   53.941465          NaN      NaN      NaN  \n",
       "min       0.000000    NaN    0.000000          NaN      NaN      NaN  \n",
       "25%       0.000000    NaN    7.895800          NaN      NaN      NaN  \n",
       "50%       0.000000    NaN   14.500000          NaN      NaN      NaN  \n",
       "75%       0.000000    NaN   30.695800          NaN      NaN      NaN  \n",
       "max       6.000000    NaN  512.329200          NaN      NaN      NaN  "
      ]
     },
     "execution_count": 8,
     "metadata": {},
     "output_type": "execute_result"
    }
   ],
   "source": [
    "df.describe(include='all')"
   ]
  },
  {
   "cell_type": "markdown",
   "metadata": {},
   "source": [
    "# Exploration"
   ]
  },
  {
   "cell_type": "markdown",
   "metadata": {},
   "source": [
    "## Embarked\n",
    "\n",
    "We've got a null. If we decide to use Embarked in the ML we'll get rid of this one. Otherwise we keep her."
   ]
  },
  {
   "cell_type": "code",
   "execution_count": 9,
   "metadata": {},
   "outputs": [
    {
     "data": {
      "text/html": [
       "<div>\n",
       "<style scoped>\n",
       "    .dataframe tbody tr th:only-of-type {\n",
       "        vertical-align: middle;\n",
       "    }\n",
       "\n",
       "    .dataframe tbody tr th {\n",
       "        vertical-align: top;\n",
       "    }\n",
       "\n",
       "    .dataframe thead th {\n",
       "        text-align: right;\n",
       "    }\n",
       "</style>\n",
       "<table border=\"1\" class=\"dataframe\">\n",
       "  <thead>\n",
       "    <tr style=\"text-align: right;\">\n",
       "      <th></th>\n",
       "      <th>Survived</th>\n",
       "      <th>Pclass</th>\n",
       "      <th>Name</th>\n",
       "      <th>Sex</th>\n",
       "      <th>SibSp</th>\n",
       "      <th>Parch</th>\n",
       "      <th>Ticket</th>\n",
       "      <th>Fare</th>\n",
       "      <th>Cabin</th>\n",
       "      <th>Embarked</th>\n",
       "      <th>HasCabin</th>\n",
       "    </tr>\n",
       "    <tr>\n",
       "      <th>PassengerId</th>\n",
       "      <th></th>\n",
       "      <th></th>\n",
       "      <th></th>\n",
       "      <th></th>\n",
       "      <th></th>\n",
       "      <th></th>\n",
       "      <th></th>\n",
       "      <th></th>\n",
       "      <th></th>\n",
       "      <th></th>\n",
       "      <th></th>\n",
       "    </tr>\n",
       "  </thead>\n",
       "  <tbody>\n",
       "    <tr>\n",
       "      <th>62</th>\n",
       "      <td>1</td>\n",
       "      <td>1</td>\n",
       "      <td>Icard, Miss. Amelie</td>\n",
       "      <td>female</td>\n",
       "      <td>0</td>\n",
       "      <td>0</td>\n",
       "      <td>113572</td>\n",
       "      <td>80.0</td>\n",
       "      <td>B28</td>\n",
       "      <td>NaN</td>\n",
       "      <td>True</td>\n",
       "    </tr>\n",
       "  </tbody>\n",
       "</table>\n",
       "</div>"
      ],
      "text/plain": [
       "             Survived  Pclass                 Name     Sex  SibSp  Parch  \\\n",
       "PassengerId                                                                \n",
       "62                  1       1  Icard, Miss. Amelie  female      0      0   \n",
       "\n",
       "             Ticket  Fare Cabin Embarked  HasCabin  \n",
       "PassengerId                                         \n",
       "62           113572  80.0   B28      NaN      True  "
      ]
     },
     "execution_count": 9,
     "metadata": {},
     "output_type": "execute_result"
    }
   ],
   "source": [
    "df[df['Embarked'].isnull()]"
   ]
  },
  {
   "cell_type": "markdown",
   "metadata": {},
   "source": [
    "## Age\n",
    "\n",
    "Let's get rid of it? There are too many `NaNs`."
   ]
  },
  {
   "cell_type": "markdown",
   "metadata": {},
   "source": [
    "## Cabins\n",
    "\n",
    "Is there a correlation with price?\n",
    "\n",
    "Maybe split the letter part and the numeric part and aggregate them somehow?"
   ]
  },
  {
   "cell_type": "code",
   "execution_count": 10,
   "metadata": {},
   "outputs": [],
   "source": [
    "cabins = df['Cabin'].unique()[1:]\n",
    "cabins.sort()"
   ]
  },
  {
   "cell_type": "code",
   "execution_count": 11,
   "metadata": {},
   "outputs": [
    {
     "name": "stdout",
     "output_type": "stream",
     "text": [
      "127\n"
     ]
    },
    {
     "data": {
      "text/plain": [
       "array(['A10', 'A14', 'A16', 'A20', 'A23', 'A24', 'A26', 'A31', 'A32',\n",
       "       'A34', 'A36', 'A5', 'A6', 'A7', 'B101', 'B102', 'B18', 'B19', 'B22',\n",
       "       'B28', 'B3', 'B35', 'B37', 'B38', 'B39', 'B4', 'B41', 'B42', 'B49',\n",
       "       'B5', 'B50', 'B51 B53 B55', 'B57 B59 B63 B66', 'B58 B60', 'B69',\n",
       "       'B71', 'B73', 'B77', 'B78', 'B79', 'B80', 'B82 B84', 'B94',\n",
       "       'B96 B98', 'C103', 'C104', 'C106', 'C111', 'C118', 'C123', 'C124',\n",
       "       'C125', 'C126', 'C128', 'C148', 'C2', 'C22 C26', 'C23 C25 C27',\n",
       "       'C30', 'C32', 'C45', 'C46', 'C49', 'C50', 'C52', 'C54', 'C62 C64',\n",
       "       'C65', 'C68', 'C7', 'C78', 'C82', 'C83', 'C87', 'C91', 'C92', 'C93',\n",
       "       'C95', 'C99', 'D', 'D10 D12', 'D11', 'D15', 'D17', 'D20', 'D21',\n",
       "       'D26', 'D28', 'D35', 'D36', 'D37', 'D45', 'D47', 'D48', 'D49',\n",
       "       'D50', 'D56', 'D6', 'D7', 'D9', 'E101', 'E12', 'E121', 'E24', 'E25',\n",
       "       'E31', 'E33', 'E34', 'E36', 'E38', 'E40', 'E44', 'E46', 'E49',\n",
       "       'E50', 'E58', 'E63', 'E67', 'E77', 'E8', 'F G63', 'F G73', 'F2',\n",
       "       'F33', 'F38', 'F4', 'G6'], dtype=object)"
      ]
     },
     "execution_count": 11,
     "metadata": {},
     "output_type": "execute_result"
    }
   ],
   "source": [
    "print(len(cabins))\n",
    "cabins"
   ]
  },
  {
   "cell_type": "markdown",
   "metadata": {},
   "source": [
    "# Appendix A: Stuff I've learned here\n",
    "\n",
    "1. In addition to `DataFrame.isnull()` we also have `notna()` which returns the inverse.\n",
    "1. To use a column as the index use `DataFrame.set_index('Column')`."
   ]
  }
 ],
 "metadata": {
  "kernelspec": {
   "display_name": "Python 3",
   "language": "python",
   "name": "python3"
  },
  "language_info": {
   "codemirror_mode": {
    "name": "ipython",
    "version": 3
   },
   "file_extension": ".py",
   "mimetype": "text/x-python",
   "name": "python",
   "nbconvert_exporter": "python",
   "pygments_lexer": "ipython3",
   "version": "3.6.3"
  }
 },
 "nbformat": 4,
 "nbformat_minor": 2
}
