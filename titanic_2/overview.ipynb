{
 "cells": [
  {
   "cell_type": "code",
   "execution_count": 1,
   "metadata": {},
   "outputs": [],
   "source": [
    "import pandas as pd\n",
    "import numpy as np\n",
    "from matplotlib import pyplot as plt\n",
    "%matplotlib inline"
   ]
  },
  {
   "cell_type": "markdown",
   "metadata": {},
   "source": [
    "# This is the second time I'm attempting the Titanic challenge\n",
    "\n",
    "I've been reading Aurelien Geron's book lately and I'm going to follow his methodology here. Some of the steps don't quite make sense because this is a competition. His methodology makes sense for a business use case.\n",
    "\n",
    "1. Big picture\n",
    "    - How is performance measured?\n",
    "    - Can I reuse experience or tools?\n",
    "    - How would this be done manually?\n",
    "    - List assumptions I've made so far.\n",
    "1. Get data\n",
    "    - Create workspace\n",
    "    - Get the data\n",
    "    - **Sample a test set, put it aside and never look at it.**\n",
    "1. Explore data\n",
    "    - Create a copy of the data for exploration\n",
    "    - Use a Jupyter notebook to keep record of data exploration\n",
    "    - Study attributes and their characteristics\n",
    "        * dtypes\n",
    "        * NANs\n",
    "        * distribution type\n",
    "    - Identify the target\n",
    "    - Visualize the data\n",
    "    - Study correlations between attributes\n",
    "    - How would you solve this manually\n",
    "    - Identify extra data that would be useful\n",
    "    - Document what you have learned\n",
    "1. Prepare data for ML algorithms\n",
    "    - Work on copies of the data\n",
    "    - If necessary fix/remove outliers and deal with missing values\n",
    "    - Feature selection: drop attributes that provide no useful information for the task\n",
    "    - Feature engineering where appropriate\n",
    "        * Discretize continuous features\n",
    "        * Decompose features (categorical/datatime etc.)\n",
    "        * Add promising transformations ($log(x)$, $\\sqrt{x}$; $x^2$; etc)\n",
    "        * Aggregate features into promising new features\n",
    "    - Feature scaling: standardize or normalize\n",
    "1. Select, train, short-list a model\n",
    "1. Fine tune the model\n",
    "1. Present findings\n",
    "1. Launch"
   ]
  },
  {
   "cell_type": "code",
   "execution_count": null,
   "metadata": {},
   "outputs": [],
   "source": []
  }
 ],
 "metadata": {
  "kernelspec": {
   "display_name": "Python 3",
   "language": "python",
   "name": "python3"
  },
  "language_info": {
   "codemirror_mode": {
    "name": "ipython",
    "version": 3
   },
   "file_extension": ".py",
   "mimetype": "text/x-python",
   "name": "python",
   "nbconvert_exporter": "python",
   "pygments_lexer": "ipython3",
   "version": "3.6.3"
  }
 },
 "nbformat": 4,
 "nbformat_minor": 2
}
